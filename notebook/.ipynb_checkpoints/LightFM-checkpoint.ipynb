{
 "cells": [
  {
   "cell_type": "code",
   "execution_count": 1,
   "metadata": {
    "colab": {
     "base_uri": "https://localhost:8080/"
    },
    "id": "-HqSiTTXqpk1",
    "outputId": "0dc22932-1dde-486b-a8e2-548573bab673"
   },
   "outputs": [],
   "source": [
    "# !wget http://files.grouplens.org/datasets/movielens/ml-latest.zip"
   ]
  },
  {
   "cell_type": "code",
   "execution_count": 2,
   "metadata": {
    "colab": {
     "base_uri": "https://localhost:8080/"
    },
    "id": "7pGJrNc4yViD",
    "outputId": "84ff55a5-f6d2-427d-8f30-fee74994503a"
   },
   "outputs": [],
   "source": [
    "# !unzip -o ml-latest.zip"
   ]
  },
  {
   "cell_type": "code",
   "execution_count": 4,
   "metadata": {
    "colab": {
     "base_uri": "https://localhost:8080/"
    },
    "id": "cCSDxsTbyO-5",
    "outputId": "8778576a-9c69-4081-a884-75516572fac1"
   },
   "outputs": [
    {
     "name": "stdout",
     "output_type": "stream",
     "text": [
      "/content/ml-latest\n"
     ]
    }
   ],
   "source": [
    "# %cd ml-latest"
   ]
  },
  {
   "cell_type": "code",
   "execution_count": 3,
   "metadata": {
    "colab": {
     "base_uri": "https://localhost:8080/"
    },
    "id": "TQDGq3evq-C1",
    "outputId": "89c6015c-26d7-4775-d195-9d581b9b1a05"
   },
   "outputs": [
    {
     "name": "stdout",
     "output_type": "stream",
     "text": [
      "WARNING: pip is being invoked by an old script wrapper. This will fail in a future version of pip.\n",
      "Please see https://github.com/pypa/pip/issues/5599 for advice on fixing the underlying issue.\n",
      "To avoid this problem you can invoke Python with '-m pip' instead of running pip directly.\n",
      "Defaulting to user installation because normal site-packages is not writeable\n",
      "Collecting lightfm\n",
      "  Using cached lightfm-1.16-cp36-cp36m-linux_x86_64.whl\n",
      "Requirement already satisfied: scipy>=0.17.0 in /home/lychang/.local/lib/python3.6/site-packages (from lightfm) (1.5.4)\n",
      "Requirement already satisfied: requests in /usr/lib/python3/dist-packages (from lightfm) (2.18.4)\n",
      "Requirement already satisfied: scikit-learn in /home/lychang/.local/lib/python3.6/site-packages (from lightfm) (0.24.2)\n",
      "Requirement already satisfied: numpy in /home/lychang/.local/lib/python3.6/site-packages (from lightfm) (1.19.5)\n",
      "Requirement already satisfied: joblib>=0.11 in /home/lychang/.local/lib/python3.6/site-packages (from scikit-learn->lightfm) (1.0.1)\n",
      "Requirement already satisfied: threadpoolctl>=2.0.0 in /home/lychang/.local/lib/python3.6/site-packages (from scikit-learn->lightfm) (2.2.0)\n",
      "Installing collected packages: lightfm\n",
      "Successfully installed lightfm-1.16\n"
     ]
    }
   ],
   "source": [
    "!pip install lightfm"
   ]
  },
  {
   "cell_type": "code",
   "execution_count": 4,
   "metadata": {
    "id": "YqPDXeSAqwna"
   },
   "outputs": [],
   "source": [
    "from scipy import sparse\n",
    "from lightfm import LightFM\n",
    "from tqdm import tqdm\n",
    "import sys"
   ]
  },
  {
   "cell_type": "markdown",
   "metadata": {
    "id": "wvJFvd_wzLtz"
   },
   "source": [
    "## Split data by time"
   ]
  },
  {
   "cell_type": "code",
   "execution_count": 5,
   "metadata": {
    "id": "jDgXVTo3zuV4"
   },
   "outputs": [],
   "source": [
    "!mkdir exp"
   ]
  },
  {
   "cell_type": "code",
   "execution_count": 6,
   "metadata": {
    "colab": {
     "base_uri": "https://localhost:8080/"
    },
    "id": "gNDMa3QyzLCE",
    "outputId": "d7b1760f-d62d-41d1-ebfd-7bb36536e58a"
   },
   "outputs": [
    {
     "name": "stderr",
     "output_type": "stream",
     "text": [
      "27753444it [01:16, 361710.07it/s]\n"
     ]
    }
   ],
   "source": [
    "# train/test edge collect the timestamp < time_cut \n",
    "#   and rate > 3\n",
    "train_edges, test_edges = [], []\n",
    "\n",
    "\n",
    "# train_all/test_all edge collect timestamp < time_cut\n",
    "#   and all rating\n",
    "\n",
    "train_all_edges, test_all_edges = [], []\n",
    "#time_cut = 1514736000\n",
    "time_cut = 1527811200\n",
    "with open('./ratings.csv', 'r') as f:\n",
    "    next(f)\n",
    "    for line in tqdm(f):\n",
    "        uid, iid, rate, time = line.rstrip('\\n').split(',')\n",
    "        if int(time) < time_cut:\n",
    "            train_all_edges.append(f\"u{uid}\\t{iid}\\t{rate}\")\n",
    "            if float(rate) > 3.:\n",
    "                train_edges.append(f\"u{uid}\\t{iid}\\t{rate}\")\n",
    "        else:\n",
    "            test_all_edges.append(f\"u{uid}\\t{iid}\\t{rate}\")\n",
    "            if float(rate) > 3.:\n",
    "                test_edges.append(f\"u{uid}\\t{iid}\\t{rate}\")\n",
    "\n",
    "with open('exp/ml.train', 'w') as f:\n",
    "    f.write('\\n'.join(train_edges))\n",
    "    f.write('\\n')\n",
    "with open('exp/ml.test', 'w') as f:\n",
    "    f.write('\\n'.join(test_edges))\n",
    "    f.write('\\n')\n",
    "with open('exp/ml2.train', 'w') as f:\n",
    "    f.write('\\n'.join(train_all_edges))\n",
    "    f.write('\\n')\n",
    "with open('exp/ml2.test', 'w') as f:\n",
    "    f.write('\\n'.join(test_all_edges))\n",
    "    f.write('\\n')\n"
   ]
  },
  {
   "cell_type": "code",
   "execution_count": 7,
   "metadata": {
    "colab": {
     "base_uri": "https://localhost:8080/"
    },
    "id": "pYbMzKxx0gh9",
    "outputId": "6d054c51-466d-405d-e60c-5ea7b2270ecc"
   },
   "outputs": [
    {
     "name": "stdout",
     "output_type": "stream",
     "text": [
      "==> exp/ml.train <==\n",
      "u1\t307\t3.5\n",
      "u1\t481\t3.5\n",
      "u1\t1257\t4.5\n",
      "u1\t1449\t4.5\n",
      "u1\t2134\t4.5\n",
      "u1\t2478\t4.0\n",
      "u1\t3020\t4.0\n",
      "u1\t3424\t4.5\n",
      "u1\t3698\t3.5\n",
      "u1\t3893\t3.5\n",
      "\n",
      "==> exp/ml.test <==\n",
      "u36\t25\t4.0\n",
      "u36\t36\t4.0\n",
      "u36\t47\t4.5\n",
      "u36\t50\t4.0\n",
      "u36\t111\t5.0\n",
      "u36\t293\t4.5\n",
      "u36\t296\t4.0\n",
      "u36\t318\t4.0\n",
      "u36\t337\t4.0\n",
      "u36\t356\t4.0\n",
      "\n",
      "==> exp/ml2.train <==\n",
      "u1\t307\t3.5\n",
      "u1\t481\t3.5\n",
      "u1\t1091\t1.5\n",
      "u1\t1257\t4.5\n",
      "u1\t1449\t4.5\n",
      "u1\t1590\t2.5\n",
      "u1\t1591\t1.5\n",
      "u1\t2134\t4.5\n",
      "u1\t2478\t4.0\n",
      "u1\t2840\t3.0\n",
      "\n",
      "==> exp/ml2.test <==\n",
      "u36\t25\t4.0\n",
      "u36\t32\t3.0\n",
      "u36\t36\t4.0\n",
      "u36\t47\t4.5\n",
      "u36\t50\t4.0\n",
      "u36\t111\t5.0\n",
      "u36\t223\t3.0\n",
      "u36\t293\t4.5\n",
      "u36\t296\t4.0\n",
      "u36\t318\t4.0\n"
     ]
    }
   ],
   "source": [
    "!head exp/ml.train exp/ml.test exp/ml2.train exp/ml2.test"
   ]
  },
  {
   "cell_type": "code",
   "execution_count": null,
   "metadata": {
    "colab": {
     "base_uri": "https://localhost:8080/"
    },
    "id": "tq5cvHoBrqeE",
    "outputId": "dd076b10-5b85-48b5-b342-7f04e3b1b0b4"
   },
   "outputs": [
    {
     "name": "stderr",
     "output_type": "stream",
     "text": [
      "load train data ...\n"
     ]
    }
   ],
   "source": [
    "users = []\n",
    "items = []\n",
    "clicks = []\n",
    "\n",
    "# user_map record the index -> label\n",
    "# user_index record the label -> index  \n",
    "user_map, user_index = {}, {}\n",
    "item_map, item_index = {}, {}\n",
    "\n",
    "sys.stderr.write('load train data ...\\n')\n",
    "with open(\"exp/ml.train\") as f:\n",
    "    for line in f:\n",
    "        user, item, click = line.rstrip('\\n').split()\n",
    "        if user not in user_index:\n",
    "            user_index[user] = len(user_index)\n",
    "            user_map[user_index[user]] = user\n",
    "        if item not in item_index:\n",
    "            item_index[item] = len(item_index)\n",
    "            item_map[item_index[item]] = item\n",
    "      \n",
    "        users.append(user_index[user])\n",
    "        items.append(item_index[item])\n",
    "        clicks.append(float(click))\n",
    "\n",
    "train = sparse.coo_matrix((clicks, (users, items)))\n",
    "\n",
    "sys.stderr.write('done !!! \\n')"
   ]
  },
  {
   "cell_type": "code",
   "execution_count": null,
   "metadata": {
    "colab": {
     "base_uri": "https://localhost:8080/"
    },
    "id": "dPSN4KXQ1bQz",
    "outputId": "2a1bcbf8-588f-4c78-bc3f-89e8ec96e29c"
   },
   "outputs": [],
   "source": [
    "print(train)"
   ]
  },
  {
   "cell_type": "code",
   "execution_count": null,
   "metadata": {
    "colab": {
     "base_uri": "https://localhost:8080/",
     "height": 372
    },
    "id": "jyjmFXppOSmh",
    "outputId": "328d8356-61d5-40b8-cbe8-abccd7ae9279"
   },
   "outputs": [],
   "source": [
    "model = LightFM(learning_rate=0.025, no_components=128, loss='warp', item_alpha=0.001, user_alpha=0.001)\n",
    "sys.stderr.write('start training ...\\n')\n",
    "model.fit(train, epochs=100, num_threads=2, verbose=True)\n"
   ]
  },
  {
   "cell_type": "code",
   "execution_count": 24,
   "metadata": {
    "colab": {
     "base_uri": "https://localhost:8080/"
    },
    "id": "Rrrw5igp28ze",
    "outputId": "e4c17403-9aa5-4938-fe5f-3c79343b9dab"
   },
   "outputs": [
    {
     "name": "stdout",
     "output_type": "stream",
     "text": [
      "2\n"
     ]
    }
   ],
   "source": [
    "sys.stderr.write('save representations ...\\n')\n",
    "user_reps = model.get_user_representations()\n",
    "item_reps = model.get_item_representations()\n",
    "\n",
    "rep_res = []\n",
    "#rep_res.append('%d %d' % (len(user_reps[1])+len(item_reps[1]), args.dim))\n",
    "for e, user_rep in enumerate(user_reps[1]):\n",
    "  rep_res.append('%s\\t%f 1.0 %s' % (user_map[e], user_reps[0][e], ' '.join(list(map(str, user_rep)))))\n",
    "for e, item_rep in enumerate(item_reps[1]):\n",
    "  rep_res.append('%s\\t1.0 %f %s' % (item_map[e], item_reps[0][e], ' '.join(list(map(str, item_rep)))))\n",
    "\n",
    "with open(args.save, 'w') as f:\n",
    "  f.write('%s\\n' % ('\\n'.join(rep_res)))"
   ]
  }
 ],
 "metadata": {
  "colab": {
   "collapsed_sections": [],
   "name": "MovieLens_FM.ipynb",
   "provenance": []
  },
  "kernelspec": {
   "display_name": "Python 3",
   "language": "python",
   "name": "python3"
  },
  "language_info": {
   "codemirror_mode": {
    "name": "ipython",
    "version": 3
   },
   "file_extension": ".py",
   "mimetype": "text/x-python",
   "name": "python",
   "nbconvert_exporter": "python",
   "pygments_lexer": "ipython3",
   "version": "3.6.9"
  }
 },
 "nbformat": 4,
 "nbformat_minor": 4
}
