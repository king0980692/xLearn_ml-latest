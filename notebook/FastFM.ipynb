{
 "cells": [
  {
   "cell_type": "code",
   "execution_count": 2,
   "id": "28c866bb-8dd7-43f3-b676-0fc968815bac",
   "metadata": {},
   "outputs": [],
   "source": [
    "import numpy as np\n",
    "import pandas as pd\n",
    "from sklearn.metrics import roc_auc_score, mean_squared_error;\n",
    "from sklearn.model_selection import train_test_split,ShuffleSplit,GridSearchCV;\n",
    "from sklearn.preprocessing import OneHotEncoder;\n",
    "from sklearn.feature_extraction.text import CountVectorizer;\n",
    "import gc;\n",
    "import pickle;\n",
    "import random;\n",
    "import matplotlib.pyplot as plt;\n",
    "import time;\n",
    "import xlearn as xl"
   ]
  },
  {
   "cell_type": "code",
   "execution_count": 3,
   "id": "f1d2f38c-c2ae-4b32-80a5-36447a71b865",
   "metadata": {},
   "outputs": [
    {
     "data": {
      "text/html": [
       "<div>\n",
       "<style scoped>\n",
       "    .dataframe tbody tr th:only-of-type {\n",
       "        vertical-align: middle;\n",
       "    }\n",
       "\n",
       "    .dataframe tbody tr th {\n",
       "        vertical-align: top;\n",
       "    }\n",
       "\n",
       "    .dataframe thead th {\n",
       "        text-align: right;\n",
       "    }\n",
       "</style>\n",
       "<table border=\"1\" class=\"dataframe\">\n",
       "  <thead>\n",
       "    <tr style=\"text-align: right;\">\n",
       "      <th></th>\n",
       "      <th>userId</th>\n",
       "      <th>movieId</th>\n",
       "      <th>rating</th>\n",
       "    </tr>\n",
       "  </thead>\n",
       "  <tbody>\n",
       "    <tr>\n",
       "      <th>0</th>\n",
       "      <td>1</td>\n",
       "      <td>307</td>\n",
       "      <td>3.5</td>\n",
       "    </tr>\n",
       "    <tr>\n",
       "      <th>1</th>\n",
       "      <td>1</td>\n",
       "      <td>481</td>\n",
       "      <td>3.5</td>\n",
       "    </tr>\n",
       "    <tr>\n",
       "      <th>2</th>\n",
       "      <td>1</td>\n",
       "      <td>1091</td>\n",
       "      <td>1.5</td>\n",
       "    </tr>\n",
       "    <tr>\n",
       "      <th>3</th>\n",
       "      <td>1</td>\n",
       "      <td>1257</td>\n",
       "      <td>4.5</td>\n",
       "    </tr>\n",
       "    <tr>\n",
       "      <th>4</th>\n",
       "      <td>1</td>\n",
       "      <td>1449</td>\n",
       "      <td>4.5</td>\n",
       "    </tr>\n",
       "    <tr>\n",
       "      <th>...</th>\n",
       "      <td>...</td>\n",
       "      <td>...</td>\n",
       "      <td>...</td>\n",
       "    </tr>\n",
       "    <tr>\n",
       "      <th>27753439</th>\n",
       "      <td>283228</td>\n",
       "      <td>8542</td>\n",
       "      <td>4.5</td>\n",
       "    </tr>\n",
       "    <tr>\n",
       "      <th>27753440</th>\n",
       "      <td>283228</td>\n",
       "      <td>8712</td>\n",
       "      <td>4.5</td>\n",
       "    </tr>\n",
       "    <tr>\n",
       "      <th>27753441</th>\n",
       "      <td>283228</td>\n",
       "      <td>34405</td>\n",
       "      <td>4.5</td>\n",
       "    </tr>\n",
       "    <tr>\n",
       "      <th>27753442</th>\n",
       "      <td>283228</td>\n",
       "      <td>44761</td>\n",
       "      <td>4.5</td>\n",
       "    </tr>\n",
       "    <tr>\n",
       "      <th>27753443</th>\n",
       "      <td>283228</td>\n",
       "      <td>54286</td>\n",
       "      <td>4.5</td>\n",
       "    </tr>\n",
       "  </tbody>\n",
       "</table>\n",
       "<p>27753444 rows × 3 columns</p>\n",
       "</div>"
      ],
      "text/plain": [
       "          userId  movieId  rating\n",
       "0              1      307     3.5\n",
       "1              1      481     3.5\n",
       "2              1     1091     1.5\n",
       "3              1     1257     4.5\n",
       "4              1     1449     4.5\n",
       "...          ...      ...     ...\n",
       "27753439  283228     8542     4.5\n",
       "27753440  283228     8712     4.5\n",
       "27753441  283228    34405     4.5\n",
       "27753442  283228    44761     4.5\n",
       "27753443  283228    54286     4.5\n",
       "\n",
       "[27753444 rows x 3 columns]"
      ]
     },
     "execution_count": 3,
     "metadata": {},
     "output_type": "execute_result"
    }
   ],
   "source": [
    "ratings = pd.read_csv(\"./ratings.csv\")\n",
    "\n",
    "ratings.columns = ['userId','movieId','rating','timestamp']\n",
    "ratings = ratings.drop('timestamp', axis=1)\n",
    "ratings"
   ]
  },
  {
   "cell_type": "code",
   "execution_count": 4,
   "id": "210b7296-478f-4535-ac0f-9c9213a9af57",
   "metadata": {},
   "outputs": [],
   "source": [
    "y = ratings['rating'].values\n",
    "X = ratings.drop('rating', axis=1)"
   ]
  },
  {
   "cell_type": "code",
   "execution_count": 5,
   "id": "f6d941e8-de86-452c-861d-5135dd0f55d6",
   "metadata": {},
   "outputs": [
    {
     "data": {
      "text/plain": [
       "array([3.5, 3.5, 1.5, ..., 4.5, 4.5, 4.5])"
      ]
     },
     "execution_count": 5,
     "metadata": {},
     "output_type": "execute_result"
    }
   ],
   "source": [
    "y"
   ]
  },
  {
   "cell_type": "code",
   "execution_count": 6,
   "id": "ce5dd90a-486e-4ecd-b379-80350c61983c",
   "metadata": {},
   "outputs": [
    {
     "data": {
      "text/html": [
       "<div>\n",
       "<style scoped>\n",
       "    .dataframe tbody tr th:only-of-type {\n",
       "        vertical-align: middle;\n",
       "    }\n",
       "\n",
       "    .dataframe tbody tr th {\n",
       "        vertical-align: top;\n",
       "    }\n",
       "\n",
       "    .dataframe thead th {\n",
       "        text-align: right;\n",
       "    }\n",
       "</style>\n",
       "<table border=\"1\" class=\"dataframe\">\n",
       "  <thead>\n",
       "    <tr style=\"text-align: right;\">\n",
       "      <th></th>\n",
       "      <th>userId</th>\n",
       "      <th>movieId</th>\n",
       "    </tr>\n",
       "  </thead>\n",
       "  <tbody>\n",
       "    <tr>\n",
       "      <th>0</th>\n",
       "      <td>1</td>\n",
       "      <td>307</td>\n",
       "    </tr>\n",
       "    <tr>\n",
       "      <th>1</th>\n",
       "      <td>1</td>\n",
       "      <td>481</td>\n",
       "    </tr>\n",
       "    <tr>\n",
       "      <th>2</th>\n",
       "      <td>1</td>\n",
       "      <td>1091</td>\n",
       "    </tr>\n",
       "    <tr>\n",
       "      <th>3</th>\n",
       "      <td>1</td>\n",
       "      <td>1257</td>\n",
       "    </tr>\n",
       "    <tr>\n",
       "      <th>4</th>\n",
       "      <td>1</td>\n",
       "      <td>1449</td>\n",
       "    </tr>\n",
       "    <tr>\n",
       "      <th>...</th>\n",
       "      <td>...</td>\n",
       "      <td>...</td>\n",
       "    </tr>\n",
       "    <tr>\n",
       "      <th>27753439</th>\n",
       "      <td>283228</td>\n",
       "      <td>8542</td>\n",
       "    </tr>\n",
       "    <tr>\n",
       "      <th>27753440</th>\n",
       "      <td>283228</td>\n",
       "      <td>8712</td>\n",
       "    </tr>\n",
       "    <tr>\n",
       "      <th>27753441</th>\n",
       "      <td>283228</td>\n",
       "      <td>34405</td>\n",
       "    </tr>\n",
       "    <tr>\n",
       "      <th>27753442</th>\n",
       "      <td>283228</td>\n",
       "      <td>44761</td>\n",
       "    </tr>\n",
       "    <tr>\n",
       "      <th>27753443</th>\n",
       "      <td>283228</td>\n",
       "      <td>54286</td>\n",
       "    </tr>\n",
       "  </tbody>\n",
       "</table>\n",
       "<p>27753444 rows × 2 columns</p>\n",
       "</div>"
      ],
      "text/plain": [
       "          userId  movieId\n",
       "0              1      307\n",
       "1              1      481\n",
       "2              1     1091\n",
       "3              1     1257\n",
       "4              1     1449\n",
       "...          ...      ...\n",
       "27753439  283228     8542\n",
       "27753440  283228     8712\n",
       "27753441  283228    34405\n",
       "27753442  283228    44761\n",
       "27753443  283228    54286\n",
       "\n",
       "[27753444 rows x 2 columns]"
      ]
     },
     "execution_count": 6,
     "metadata": {},
     "output_type": "execute_result"
    }
   ],
   "source": [
    "X"
   ]
  },
  {
   "cell_type": "code",
   "execution_count": 7,
   "id": "59b45db3-18b4-410b-a9f0-ced5678c5ca2",
   "metadata": {},
   "outputs": [],
   "source": [
    "encoder = OneHotEncoder(handle_unknown='ignore')"
   ]
  },
  {
   "cell_type": "code",
   "execution_count": 8,
   "id": "f9167fd2-84af-40f7-84e7-64347a460cf7",
   "metadata": {},
   "outputs": [
    {
     "data": {
      "text/plain": [
       "OneHotEncoder(handle_unknown='ignore')"
      ]
     },
     "execution_count": 8,
     "metadata": {},
     "output_type": "execute_result"
    }
   ],
   "source": [
    "trainX, testX, trainY, testY = train_test_split(X, y, test_size=0.20, random_state=1234)\n",
    "#trainX, testX = encode(trainX,testX)\n",
    "\n",
    "encoder.fit(trainX)\n",
    "\n"
   ]
  },
  {
   "cell_type": "code",
   "execution_count": 9,
   "id": "ac9ce018-f744-4321-a017-c84f61e9317a",
   "metadata": {},
   "outputs": [],
   "source": [
    "trainX = encoder.transform(trainX)"
   ]
  },
  {
   "cell_type": "code",
   "execution_count": 10,
   "id": "f879d7cd-c1ab-49c5-9399-17b9c97fd57f",
   "metadata": {},
   "outputs": [
    {
     "name": "stdout",
     "output_type": "stream",
     "text": [
      "  (0, 61341)\t1.0\n",
      "  (0, 283846)\t1.0\n",
      "  (1, 45578)\t1.0\n",
      "  (1, 283077)\t1.0\n",
      "  (2, 246677)\t1.0\n",
      "  (2, 285196)\t1.0\n",
      "  (3, 200879)\t1.0\n",
      "  (3, 282228)\t1.0\n",
      "  (4, 182676)\t1.0\n",
      "  (4, 305529)\t1.0\n",
      "  (5, 57146)\t1.0\n",
      "  (5, 282457)\t1.0\n",
      "  (6, 146972)\t1.0\n",
      "  (6, 288810)\t1.0\n",
      "  (7, 208847)\t1.0\n",
      "  (7, 285468)\t1.0\n",
      "  (8, 33168)\t1.0\n",
      "  (8, 282455)\t1.0\n",
      "  (9, 41181)\t1.0\n",
      "  (9, 285235)\t1.0\n",
      "  (10, 170121)\t1.0\n",
      "  (10, 297574)\t1.0\n",
      "  (11, 172596)\t1.0\n",
      "  (11, 282892)\t1.0\n",
      "  (12, 44065)\t1.0\n",
      "  :\t:\n",
      "  (5550676, 283251)\t1.0\n",
      "  (5550677, 20004)\t1.0\n",
      "  (5550677, 282463)\t1.0\n",
      "  (5550678, 109116)\t1.0\n",
      "  (5550678, 311119)\t1.0\n",
      "  (5550679, 184208)\t1.0\n",
      "  (5550679, 293902)\t1.0\n",
      "  (5550680, 259817)\t1.0\n",
      "  (5550680, 302390)\t1.0\n",
      "  (5550681, 597)\t1.0\n",
      "  (5550681, 298487)\t1.0\n",
      "  (5550682, 28504)\t1.0\n",
      "  (5550682, 282132)\t1.0\n",
      "  (5550683, 25360)\t1.0\n",
      "  (5550683, 282132)\t1.0\n",
      "  (5550684, 177291)\t1.0\n",
      "  (5550684, 289975)\t1.0\n",
      "  (5550685, 43123)\t1.0\n",
      "  (5550685, 292940)\t1.0\n",
      "  (5550686, 229782)\t1.0\n",
      "  (5550686, 282146)\t1.0\n",
      "  (5550687, 180233)\t1.0\n",
      "  (5550687, 283773)\t1.0\n",
      "  (5550688, 117695)\t1.0\n",
      "  (5550688, 282770)\t1.0\n"
     ]
    }
   ],
   "source": [
    "testX = encoder.transform(testX)\n",
    "print(testX)"
   ]
  },
  {
   "cell_type": "code",
   "execution_count": 10,
   "id": "84c29a33-5ba1-4415-b270-146e70aa06bd",
   "metadata": {},
   "outputs": [],
   "source": [
    "from fastFM.mcmc import FMClassification, FMRegression\n",
    "from fastFM import als;"
   ]
  },
  {
   "cell_type": "code",
   "execution_count": null,
   "id": "f9fcbd30-958b-41df-8f7f-05300c161fa8",
   "metadata": {},
   "outputs": [],
   "source": [
    "cv = ShuffleSplit(n_splits=3, test_size= int(0.2 * trainX.shape[0]), random_state = 2018)\n",
    "\n",
    "\n",
    "estimator = als.FMRegression()\n",
    "\n",
    "params = {\n",
    "'n_iter' : np.arange(10,100,30),\n",
    "'rank' :  np.arange(2,12,4),\n",
    "'l2_reg_w': np.logspace(-6, -1, 3),\n",
    "'l2_reg_V' : np.logspace(-6, -1, 3)\n",
    "}\n",
    "\n",
    "###Gridsearch over parameters\n",
    "regressor = GridSearchCV(estimator=estimator , cv=cv, param_grid=params)\n",
    "regressor.fit(trainX, trainY)\n"
   ]
  }
 ],
 "metadata": {
  "kernelspec": {
   "display_name": "Python 3",
   "language": "python",
   "name": "python3"
  },
  "language_info": {
   "codemirror_mode": {
    "name": "ipython",
    "version": 3
   },
   "file_extension": ".py",
   "mimetype": "text/x-python",
   "name": "python",
   "nbconvert_exporter": "python",
   "pygments_lexer": "ipython3",
   "version": "3.6.9"
  }
 },
 "nbformat": 4,
 "nbformat_minor": 5
}
