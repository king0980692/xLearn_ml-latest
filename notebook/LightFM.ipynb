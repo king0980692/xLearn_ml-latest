{
 "cells": [
  {
   "cell_type": "code",
   "execution_count": 1,
   "metadata": {
    "colab": {
     "base_uri": "https://localhost:8080/"
    },
    "id": "-HqSiTTXqpk1",
    "outputId": "0dc22932-1dde-486b-a8e2-548573bab673"
   },
   "outputs": [],
   "source": [
    "# !wget http://files.grouplens.org/datasets/movielens/ml-latest.zip"
   ]
  },
  {
   "cell_type": "code",
   "execution_count": 2,
   "metadata": {
    "colab": {
     "base_uri": "https://localhost:8080/"
    },
    "id": "7pGJrNc4yViD",
    "outputId": "84ff55a5-f6d2-427d-8f30-fee74994503a"
   },
   "outputs": [],
   "source": [
    "# !unzip -o ml-latest.zip"
   ]
  },
  {
   "cell_type": "code",
   "execution_count": 4,
   "metadata": {
    "colab": {
     "base_uri": "https://localhost:8080/"
    },
    "id": "cCSDxsTbyO-5",
    "outputId": "8778576a-9c69-4081-a884-75516572fac1"
   },
   "outputs": [
    {
     "name": "stdout",
     "output_type": "stream",
     "text": [
      "/content/ml-latest\n"
     ]
    }
   ],
   "source": [
    "# %cd ml-latest"
   ]
  },
  {
   "cell_type": "code",
   "execution_count": 1,
   "metadata": {
    "colab": {
     "base_uri": "https://localhost:8080/"
    },
    "id": "TQDGq3evq-C1",
    "outputId": "89c6015c-26d7-4775-d195-9d581b9b1a05"
   },
   "outputs": [],
   "source": [
    "# !pip install lightfm"
   ]
  },
  {
   "cell_type": "code",
   "execution_count": 5,
   "metadata": {
    "id": "jDgXVTo3zuV4"
   },
   "outputs": [],
   "source": [
    "# !mkdir exp"
   ]
  },
  {
   "cell_type": "code",
   "execution_count": 4,
   "metadata": {
    "id": "YqPDXeSAqwna"
   },
   "outputs": [],
   "source": [
    "from scipy import sparse\n",
    "from lightfm import LightFM\n",
    "from tqdm import tqdm\n",
    "import sys"
   ]
  },
  {
   "cell_type": "markdown",
   "metadata": {
    "id": "wvJFvd_wzLtz"
   },
   "source": [
    "## Split data by time"
   ]
  },
  {
   "cell_type": "code",
   "execution_count": 6,
   "metadata": {
    "colab": {
     "base_uri": "https://localhost:8080/"
    },
    "id": "gNDMa3QyzLCE",
    "outputId": "d7b1760f-d62d-41d1-ebfd-7bb36536e58a"
   },
   "outputs": [
    {
     "name": "stderr",
     "output_type": "stream",
     "text": [
      "27753444it [01:16, 361710.07it/s]\n"
     ]
    }
   ],
   "source": [
    "# train/test edge collect the timestamp < time_cut \n",
    "#   and rate > 3\n",
    "train_edges, test_edges = [], []\n",
    "\n",
    "\n",
    "# train_all/test_all edge collect timestamp < time_cut\n",
    "#   and all rating\n",
    "\n",
    "train_all_edges, test_all_edges = [], []\n",
    "#time_cut = 1514736000\n",
    "time_cut = 1527811200\n",
    "with open('./ratings.csv', 'r') as f:\n",
    "    next(f)\n",
    "    for line in tqdm(f):\n",
    "        uid, iid, rate, time = line.rstrip('\\n').split(',')\n",
    "        if int(time) < time_cut:\n",
    "            train_all_edges.append(f\"u{uid}\\t{iid}\\t{rate}\")\n",
    "            if float(rate) > 3.:\n",
    "                train_edges.append(f\"u{uid}\\t{iid}\\t{rate}\")\n",
    "        else:\n",
    "            test_all_edges.append(f\"u{uid}\\t{iid}\\t{rate}\")\n",
    "            if float(rate) > 3.:\n",
    "                test_edges.append(f\"u{uid}\\t{iid}\\t{rate}\")\n",
    "\n",
    "with open('exp/ml.train', 'w') as f:\n",
    "    f.write('\\n'.join(train_edges))\n",
    "    f.write('\\n')\n",
    "with open('exp/ml.test', 'w') as f:\n",
    "    f.write('\\n'.join(test_edges))\n",
    "    f.write('\\n')\n",
    "with open('exp/ml2.train', 'w') as f:\n",
    "    f.write('\\n'.join(train_all_edges))\n",
    "    f.write('\\n')\n",
    "with open('exp/ml2.test', 'w') as f:\n",
    "    f.write('\\n'.join(test_all_edges))\n",
    "    f.write('\\n')\n"
   ]
  },
  {
   "cell_type": "code",
   "execution_count": 7,
   "metadata": {
    "colab": {
     "base_uri": "https://localhost:8080/"
    },
    "id": "pYbMzKxx0gh9",
    "outputId": "6d054c51-466d-405d-e60c-5ea7b2270ecc"
   },
   "outputs": [
    {
     "name": "stdout",
     "output_type": "stream",
     "text": [
      "==> exp/ml.train <==\n",
      "u1\t307\t3.5\n",
      "u1\t481\t3.5\n",
      "u1\t1257\t4.5\n",
      "u1\t1449\t4.5\n",
      "u1\t2134\t4.5\n",
      "u1\t2478\t4.0\n",
      "u1\t3020\t4.0\n",
      "u1\t3424\t4.5\n",
      "u1\t3698\t3.5\n",
      "u1\t3893\t3.5\n",
      "\n",
      "==> exp/ml.test <==\n",
      "u36\t25\t4.0\n",
      "u36\t36\t4.0\n",
      "u36\t47\t4.5\n",
      "u36\t50\t4.0\n",
      "u36\t111\t5.0\n",
      "u36\t293\t4.5\n",
      "u36\t296\t4.0\n",
      "u36\t318\t4.0\n",
      "u36\t337\t4.0\n",
      "u36\t356\t4.0\n",
      "\n",
      "==> exp/ml2.train <==\n",
      "u1\t307\t3.5\n",
      "u1\t481\t3.5\n",
      "u1\t1091\t1.5\n",
      "u1\t1257\t4.5\n",
      "u1\t1449\t4.5\n",
      "u1\t1590\t2.5\n",
      "u1\t1591\t1.5\n",
      "u1\t2134\t4.5\n",
      "u1\t2478\t4.0\n",
      "u1\t2840\t3.0\n",
      "\n",
      "==> exp/ml2.test <==\n",
      "u36\t25\t4.0\n",
      "u36\t32\t3.0\n",
      "u36\t36\t4.0\n",
      "u36\t47\t4.5\n",
      "u36\t50\t4.0\n",
      "u36\t111\t5.0\n",
      "u36\t223\t3.0\n",
      "u36\t293\t4.5\n",
      "u36\t296\t4.0\n",
      "u36\t318\t4.0\n"
     ]
    }
   ],
   "source": [
    "!head exp/ml.train exp/ml.test exp/ml2.train exp/ml2.test"
   ]
  },
  {
   "cell_type": "code",
   "execution_count": 8,
   "metadata": {
    "colab": {
     "base_uri": "https://localhost:8080/"
    },
    "id": "tq5cvHoBrqeE",
    "outputId": "dd076b10-5b85-48b5-b342-7f04e3b1b0b4"
   },
   "outputs": [
    {
     "name": "stderr",
     "output_type": "stream",
     "text": [
      "load train data ...\n",
      "done !!! \n"
     ]
    }
   ],
   "source": [
    "users = []\n",
    "items = []\n",
    "clicks = []\n",
    "\n",
    "# user_map record the index -> label\n",
    "# user_index record the label -> index  \n",
    "user_map, user_index = {}, {}\n",
    "item_map, item_index = {}, {}\n",
    "\n",
    "sys.stderr.write('load train data ...\\n')\n",
    "with open(\"exp/ml.train\") as f:\n",
    "    for line in f:\n",
    "        user, item, click = line.rstrip('\\n').split()\n",
    "        if user not in user_index:\n",
    "            user_index[user] = len(user_index)\n",
    "            user_map[user_index[user]] = user\n",
    "        if item not in item_index:\n",
    "            item_index[item] = len(item_index)\n",
    "            item_map[item_index[item]] = item\n",
    "      \n",
    "        users.append(user_index[user])\n",
    "        items.append(item_index[item])\n",
    "        clicks.append(float(click))\n",
    "\n",
    "train = sparse.coo_matrix((clicks, (users, items)))\n",
    "\n",
    "sys.stderr.write('done !!! \\n')"
   ]
  },
  {
   "cell_type": "code",
   "execution_count": 9,
   "metadata": {
    "colab": {
     "base_uri": "https://localhost:8080/"
    },
    "id": "dPSN4KXQ1bQz",
    "outputId": "2a1bcbf8-588f-4c78-bc3f-89e8ec96e29c"
   },
   "outputs": [
    {
     "name": "stdout",
     "output_type": "stream",
     "text": [
      "  (0, 0)\t3.5\n",
      "  (0, 1)\t3.5\n",
      "  (0, 2)\t4.5\n",
      "  (0, 3)\t4.5\n",
      "  (0, 4)\t4.5\n",
      "  (0, 5)\t4.0\n",
      "  (0, 6)\t4.0\n",
      "  (0, 7)\t4.5\n",
      "  (0, 8)\t3.5\n",
      "  (0, 9)\t3.5\n",
      "  (1, 10)\t3.5\n",
      "  (1, 11)\t3.5\n",
      "  (1, 12)\t3.5\n",
      "  (1, 13)\t4.5\n",
      "  (1, 14)\t4.0\n",
      "  (1, 15)\t3.5\n",
      "  (1, 16)\t4.5\n",
      "  (1, 17)\t4.0\n",
      "  (1, 18)\t3.5\n",
      "  (1, 19)\t4.0\n",
      "  (1, 20)\t3.5\n",
      "  (1, 21)\t4.0\n",
      "  (2, 22)\t4.0\n",
      "  (2, 23)\t4.0\n",
      "  (2, 24)\t4.0\n",
      "  :\t:\n",
      "  (276010, 1507)\t4.0\n",
      "  (276010, 297)\t3.5\n",
      "  (276010, 298)\t5.0\n",
      "  (276010, 1062)\t4.5\n",
      "  (276010, 356)\t5.0\n",
      "  (276010, 364)\t4.0\n",
      "  (276010, 2013)\t4.5\n",
      "  (276010, 384)\t3.5\n",
      "  (276010, 2216)\t4.0\n",
      "  (276010, 396)\t4.5\n",
      "  (276010, 409)\t5.0\n",
      "  (276010, 424)\t4.0\n",
      "  (276010, 7701)\t5.0\n",
      "  (276010, 5578)\t4.5\n",
      "  (276010, 5579)\t4.0\n",
      "  (276010, 6639)\t4.5\n",
      "  (276010, 7389)\t4.5\n",
      "  (276010, 7407)\t5.0\n",
      "  (276010, 12129)\t5.0\n",
      "  (276010, 2037)\t5.0\n",
      "  (276010, 7410)\t4.5\n",
      "  (276010, 5605)\t4.5\n",
      "  (276010, 1015)\t4.5\n",
      "  (276010, 3394)\t4.5\n",
      "  (276010, 508)\t4.5\n"
     ]
    }
   ],
   "source": [
    "print(train)"
   ]
  },
  {
   "cell_type": "code",
   "execution_count": 13,
   "metadata": {
    "colab": {
     "base_uri": "https://localhost:8080/",
     "height": 372
    },
    "id": "jyjmFXppOSmh",
    "outputId": "328d8356-61d5-40b8-cbe8-abccd7ae9279"
   },
   "outputs": [
    {
     "name": "stderr",
     "output_type": "stream",
     "text": [
      "start training ...\n",
      "\n",
      "Epoch:   0%|          | 0/100 [00:00<?, ?it/s]\u001b[A\n",
      "Epoch:   1%|          | 1/100 [00:29<49:02, 29.72s/it]\u001b[A\n",
      "Epoch:   2%|▏         | 2/100 [00:58<47:55, 29.35s/it]\u001b[A\n",
      "Epoch:   3%|▎         | 3/100 [01:26<46:48, 28.95s/it]\u001b[A\n",
      "Epoch:   4%|▍         | 4/100 [01:53<45:44, 28.59s/it]\u001b[A\n",
      "Epoch:   5%|▌         | 5/100 [02:21<44:48, 28.30s/it]\u001b[A\n",
      "Epoch:   6%|▌         | 6/100 [02:49<43:55, 28.04s/it]\u001b[A\n",
      "Epoch:   7%|▋         | 7/100 [03:16<43:07, 27.83s/it]\u001b[A\n",
      "Epoch:   8%|▊         | 8/100 [03:43<42:17, 27.58s/it]\u001b[A\n",
      "Epoch:   9%|▉         | 9/100 [04:10<41:37, 27.45s/it]\u001b[A\n",
      "Epoch:  10%|█         | 10/100 [04:37<41:06, 27.41s/it]\u001b[A\n",
      "Epoch:  11%|█         | 11/100 [05:04<40:22, 27.22s/it]\u001b[A\n",
      "Epoch:  12%|█▏        | 12/100 [05:31<39:42, 27.07s/it]\u001b[A\n",
      "Epoch:  13%|█▎        | 13/100 [05:58<39:16, 27.08s/it]\u001b[A\n",
      "Epoch:  14%|█▍        | 14/100 [06:25<38:51, 27.12s/it]\u001b[A\n",
      "Epoch:  15%|█▌        | 15/100 [07:05<43:47, 30.91s/it]\u001b[A\n",
      "Epoch:  16%|█▌        | 16/100 [07:55<51:30, 36.80s/it]\u001b[A\n",
      "Epoch:  17%|█▋        | 17/100 [08:49<57:54, 41.86s/it]\u001b[A\n",
      "Epoch:  18%|█▊        | 18/100 [09:41<1:01:16, 44.83s/it]\u001b[A\n",
      "Epoch:  19%|█▉        | 19/100 [10:18<57:13, 42.39s/it]  \u001b[A\n",
      "Epoch:  20%|██        | 20/100 [11:02<57:19, 43.00s/it]\u001b[A\n",
      "Epoch:  21%|██        | 21/100 [11:49<58:02, 44.09s/it]\u001b[A\n",
      "Epoch:  22%|██▏       | 22/100 [12:34<57:47, 44.45s/it]\u001b[A\n",
      "Epoch:  23%|██▎       | 23/100 [13:20<57:35, 44.88s/it]\u001b[A\n",
      "Epoch:  24%|██▍       | 24/100 [14:03<56:13, 44.38s/it]\u001b[A\n",
      "Epoch:  25%|██▌       | 25/100 [14:47<55:17, 44.23s/it]\u001b[A\n",
      "Epoch:  26%|██▌       | 26/100 [15:33<55:13, 44.78s/it]\u001b[A\n",
      "Epoch:  27%|██▋       | 27/100 [16:17<54:10, 44.52s/it]\u001b[A\n",
      "Epoch:  28%|██▊       | 28/100 [17:01<53:13, 44.35s/it]\u001b[A\n",
      "Epoch:  29%|██▉       | 29/100 [17:47<52:57, 44.76s/it]\u001b[A\n",
      "Epoch:  30%|███       | 30/100 [18:27<50:37, 43.39s/it]\u001b[A\n",
      "Epoch:  31%|███       | 31/100 [18:52<43:34, 37.89s/it]\u001b[A\n",
      "Epoch:  32%|███▏      | 32/100 [19:17<38:36, 34.06s/it]\u001b[A\n",
      "Epoch:  33%|███▎      | 33/100 [19:42<35:09, 31.49s/it]\u001b[A\n",
      "Epoch:  34%|███▍      | 34/100 [20:08<32:33, 29.60s/it]\u001b[A\n",
      "Epoch:  35%|███▌      | 35/100 [20:33<30:40, 28.32s/it]\u001b[A\n",
      "Epoch:  36%|███▌      | 36/100 [20:58<29:15, 27.43s/it]\u001b[A\n",
      "Epoch:  37%|███▋      | 37/100 [21:23<28:03, 26.73s/it]\u001b[A\n",
      "Epoch:  38%|███▊      | 38/100 [21:49<27:08, 26.27s/it]\u001b[A\n",
      "Epoch:  39%|███▉      | 39/100 [22:14<26:20, 25.91s/it]\u001b[A\n",
      "Epoch:  40%|████      | 40/100 [22:39<25:44, 25.74s/it]\u001b[A\n",
      "Epoch:  41%|████      | 41/100 [23:04<25:12, 25.64s/it]\u001b[A\n",
      "Epoch:  42%|████▏     | 42/100 [23:29<24:35, 25.44s/it]\u001b[A\n",
      "Epoch:  43%|████▎     | 43/100 [23:54<24:04, 25.34s/it]\u001b[A\n",
      "Epoch:  44%|████▍     | 44/100 [24:20<23:38, 25.34s/it]\u001b[A\n",
      "Epoch:  45%|████▌     | 45/100 [24:45<23:07, 25.23s/it]\u001b[A\n",
      "Epoch:  46%|████▌     | 46/100 [25:10<22:36, 25.12s/it]\u001b[A\n",
      "Epoch:  47%|████▋     | 47/100 [25:35<22:14, 25.17s/it]\u001b[A\n",
      "Epoch:  48%|████▊     | 48/100 [26:00<21:53, 25.26s/it]\u001b[A\n",
      "Epoch:  49%|████▉     | 49/100 [26:25<21:25, 25.21s/it]\u001b[A\n",
      "Epoch:  50%|█████     | 50/100 [26:51<21:05, 25.31s/it]\u001b[A\n",
      "Epoch:  51%|█████     | 51/100 [27:16<20:39, 25.30s/it]\u001b[A\n",
      "Epoch:  52%|█████▏    | 52/100 [27:41<20:12, 25.25s/it]\u001b[A\n",
      "Epoch:  53%|█████▎    | 53/100 [28:07<19:48, 25.29s/it]\u001b[A\n",
      "Epoch:  54%|█████▍    | 54/100 [28:32<19:22, 25.27s/it]\u001b[A\n",
      "Epoch:  55%|█████▌    | 55/100 [28:57<18:58, 25.30s/it]\u001b[A\n",
      "Epoch:  56%|█████▌    | 56/100 [29:23<18:33, 25.32s/it]\u001b[A\n",
      "Epoch:  57%|█████▋    | 57/100 [29:48<18:03, 25.20s/it]\u001b[A\n",
      "Epoch:  58%|█████▊    | 58/100 [30:13<17:38, 25.20s/it]\u001b[A\n",
      "Epoch:  59%|█████▉    | 59/100 [30:38<17:10, 25.12s/it]\u001b[A\n",
      "Epoch:  60%|██████    | 60/100 [31:03<16:43, 25.09s/it]\u001b[A\n",
      "Epoch:  61%|██████    | 61/100 [31:28<16:16, 25.03s/it]\u001b[A\n",
      "Epoch:  62%|██████▏   | 62/100 [31:53<15:52, 25.05s/it]\u001b[A\n",
      "Epoch:  63%|██████▎   | 63/100 [32:18<15:25, 25.01s/it]\u001b[A\n",
      "Epoch:  64%|██████▍   | 64/100 [32:43<14:58, 24.97s/it]\u001b[A\n",
      "Epoch:  65%|██████▌   | 65/100 [33:07<14:32, 24.94s/it]\u001b[A\n",
      "Epoch:  66%|██████▌   | 66/100 [33:32<14:07, 24.92s/it]\u001b[A\n",
      "Epoch:  67%|██████▋   | 67/100 [33:57<13:41, 24.90s/it]\u001b[A\n",
      "Epoch:  68%|██████▊   | 68/100 [34:22<13:17, 24.94s/it]\u001b[A\n",
      "Epoch:  69%|██████▉   | 69/100 [34:47<12:52, 24.91s/it]\u001b[A\n",
      "Epoch:  70%|███████   | 70/100 [35:12<12:29, 24.98s/it]\u001b[A\n",
      "Epoch:  71%|███████   | 71/100 [35:37<12:03, 24.96s/it]\u001b[A\n",
      "Epoch:  72%|███████▏  | 72/100 [36:02<11:40, 25.03s/it]\u001b[A\n",
      "Epoch:  73%|███████▎  | 73/100 [36:28<11:17, 25.11s/it]\u001b[A\n",
      "Epoch:  74%|███████▍  | 74/100 [36:53<10:53, 25.13s/it]\u001b[A\n",
      "Epoch:  75%|███████▌  | 75/100 [37:18<10:27, 25.09s/it]\u001b[A\n",
      "Epoch:  76%|███████▌  | 76/100 [37:43<09:59, 25.00s/it]\u001b[A\n",
      "Epoch:  77%|███████▋  | 77/100 [38:08<09:36, 25.06s/it]\u001b[A\n",
      "Epoch:  78%|███████▊  | 78/100 [38:33<09:10, 25.02s/it]\u001b[A\n",
      "Epoch:  79%|███████▉  | 79/100 [38:58<08:45, 25.03s/it]\u001b[A\n",
      "Epoch:  80%|████████  | 80/100 [39:23<08:19, 24.98s/it]\u001b[A\n",
      "Epoch:  81%|████████  | 81/100 [39:48<07:55, 25.01s/it]\u001b[A\n",
      "Epoch:  82%|████████▏ | 82/100 [40:13<07:30, 25.03s/it]\u001b[A\n",
      "Epoch:  83%|████████▎ | 83/100 [40:38<07:04, 24.96s/it]\u001b[A\n",
      "Epoch:  84%|████████▍ | 84/100 [41:03<06:39, 24.96s/it]\u001b[A\n",
      "Epoch:  85%|████████▌ | 85/100 [41:28<06:15, 25.01s/it]\u001b[A\n",
      "Epoch:  86%|████████▌ | 86/100 [41:53<05:49, 24.99s/it]\u001b[A\n",
      "Epoch:  87%|████████▋ | 87/100 [42:17<05:24, 24.95s/it]\u001b[A\n",
      "Epoch:  88%|████████▊ | 88/100 [42:43<05:00, 25.01s/it]\u001b[A\n",
      "Epoch:  89%|████████▉ | 89/100 [43:07<04:34, 24.94s/it]\u001b[A\n",
      "Epoch:  90%|█████████ | 90/100 [43:32<04:09, 24.94s/it]\u001b[A\n",
      "Epoch:  91%|█████████ | 91/100 [43:57<03:43, 24.89s/it]\u001b[A\n",
      "Epoch:  92%|█████████▏| 92/100 [44:22<03:19, 24.94s/it]\u001b[A\n",
      "Epoch:  93%|█████████▎| 93/100 [44:47<02:53, 24.85s/it]\u001b[A\n",
      "Epoch:  94%|█████████▍| 94/100 [45:12<02:28, 24.82s/it]\u001b[A\n",
      "Epoch:  95%|█████████▌| 95/100 [45:36<02:03, 24.80s/it]\u001b[A\n",
      "Epoch:  96%|█████████▌| 96/100 [46:01<01:39, 24.83s/it]\u001b[A\n",
      "Epoch:  97%|█████████▋| 97/100 [46:26<01:14, 24.88s/it]\u001b[A\n",
      "Epoch:  98%|█████████▊| 98/100 [46:51<00:49, 24.86s/it]\u001b[A\n",
      "Epoch:  99%|█████████▉| 99/100 [47:16<00:24, 24.94s/it]\u001b[A\n",
      "Epoch: 100%|██████████| 100/100 [47:41<00:00, 28.62s/it]\u001b[A\n"
     ]
    },
    {
     "data": {
      "text/plain": [
       "<lightfm.lightfm.LightFM at 0x7f2580382668>"
      ]
     },
     "execution_count": 13,
     "metadata": {},
     "output_type": "execute_result"
    }
   ],
   "source": [
    "model = LightFM(learning_rate=0.025, no_components=128, loss='warp', item_alpha=0.001, user_alpha=0.001)\n",
    "sys.stderr.write('start training ...\\n')\n",
    "model.fit(train, epochs=100, num_threads=16, verbose=True)"
   ]
  },
  {
   "cell_type": "code",
   "execution_count": 14,
   "metadata": {
    "colab": {
     "base_uri": "https://localhost:8080/"
    },
    "id": "Rrrw5igp28ze",
    "outputId": "e4c17403-9aa5-4938-fe5f-3c79343b9dab"
   },
   "outputs": [
    {
     "name": "stderr",
     "output_type": "stream",
     "text": [
      "save representations ...\n"
     ]
    }
   ],
   "source": [
    "sys.stderr.write('save representations ...\\n')\n",
    "user_reps = model.get_user_representations()\n",
    "item_reps = model.get_item_representations()d\n",
    "rep_res = []\n",
    "#rep_res.append('%d %d' % (len(user_reps[1])+len(item_reps[1]), args.dim))\n",
    "for e, user_rep in enumerate(user_reps[1]):\n",
    "    rep_res.append('%s\\t%f 1.0 %s' % (user_map[e], user_reps[0][e], ' '.join(list(map(str, user_rep)))))\n",
    "for e, item_rep in enumerate(item_reps[1]):\n",
    "    rep_res.append('%s\\t1.0 %f %s' % (item_map[e], item_reps[0][e], ' '.join(list(map(str, item_rep)))))\n",
    "\n",
    "with open(\"exp/ml.lfm\", 'w') as f:\n",
    "    f.write('%s\\n' % ('\\n'.join(rep_res)))"
   ]
  },
  {
   "cell_type": "code",
   "execution_count": 27,
   "metadata": {},
   "outputs": [
    {
     "name": "stdout",
     "output_type": "stream",
     "text": [
      "u1\t-1.005874 1.0 -2.5481415 -4.053117 0.9342967 -0.23839854 -2.3836365 2.500808 -1.2779369 0.72772706 0.881725 -0.11601348 -1.0355482 0.72646445 -0.04656492 1.3394637 1.8984878 -1.5686283 -1.7636406 -2.800289 1.4400064 0.6177509 1.5478159 3.5321524 -0.7459478 1.5155205 -0.20599326 1.4443252 -2.4191566 1.6636883 -0.28033775 0.665832 1.9568146 -0.10864849 -0.14182271 -0.9869911 -1.1713748 1.174228 -0.23050216 0.24290244 3.704556 1.6157317 -7.005079 -1.850436 -0.1109539 -4.0255623 -2.0795867 -0.3099979 -2.6072927 -7.3014097 2.6778626 -0.62580454 2.4130542 -0.53084314 0.071333855 -0.77788556 -1.3622967 1.8971088 -6.852613 0.54805773 0.3152457 0.890362 1.2032653 0.40478864 -0.02777551 0.9853546 -2.8206947 1.5503545 -1.2679352 -0.16621418 -1.2484174 -1.765311 0.7622128 -0.63699806 0.6783687 1.1941508 -0.65689546 0.400857 0.06446028 -1.1058619 0.103712 0.37212646 0.70208323 -2.1980374 0.20495467 0.40018085 -0.017207354 4.2750816 -0.26779494 1.7234085 1.6579169 0.23225619 1.4389279 1.1251903 -1.3990836 -1.0030551 0.31547076 -2.553768 2.668845 1.5004237 2.7217565 -0.13641772 1.3766577 -0.7781743 -2.1486518 2.1628907 -2.023771 -0.2345876 0.99634886 -0.37331647 0.24609055 2.0224867 -0.37786162 -1.307228 0.047938537 0.1662853 0.45772052 1.8605549 0.7563282 0.45563036 0.19158791 0.07915095 0.66430616 1.4251667 -1.6350175 -0.62116927 -7.9219127 -1.7799993 2.676117 -0.799067\n"
     ]
    }
   ],
   "source": [
    "!head exp/ml.lfm -n 1"
   ]
  },
  {
   "cell_type": "markdown",
   "metadata": {},
   "source": [
    "## evaluation"
   ]
  },
  {
   "cell_type": "code",
   "execution_count": 16,
   "metadata": {},
   "outputs": [],
   "source": [
    "import sys\n",
    "import gzip, json\n",
    "import argparse\n",
    "import random\n",
    "import math\n",
    "import concurrent.futures\n",
    "from collections import defaultdict\n",
    "from math import log, sqrt\n",
    "from tqdm import tqdm"
   ]
  },
  {
   "cell_type": "code",
   "execution_count": 20,
   "metadata": {},
   "outputs": [],
   "source": [
    "seed = 2021\n",
    "cold_item = 0\n",
    "cold_user = 0\n",
    "def eu_distance(v, v2):\n",
    "    try:\n",
    "        return -(sum( (a-b)**2 for a,b in zip(v, v2) )) # omit sqrt\n",
    "    except:\n",
    "        return -100.\n",
    "\n",
    "def cosine_distance(v, v2):\n",
    "    try:\n",
    "        score = sum( (a*b) for a,b in zip(v, v2) ) / ( sqrt(sum(a*a for a in v)*sum(b*b for b in v2)) )\n",
    "        if math.isnan(score):\n",
    "            return 0\n",
    "        return score\n",
    "    except:\n",
    "        return 0\n",
    "\n",
    "def dot_sim(v, v2):\n",
    "    try:\n",
    "        score = sum( (a*b) for a,b in zip(v, v2) )\n",
    "        if math.isnan(score):\n",
    "            return 0\n",
    "        return score\n",
    "    except:\n",
    "        return 0\n",
    "\n",
    "sim = {'dot': dot_sim, 'cosine': cosine_distance}[\"dot\"]\n",
    "\n",
    "def process_u_query(uid):\n",
    "\n",
    "    global sim\n",
    "    global iids, cold_iids\n",
    "    global train_ui, test_ui\n",
    "    global train_ui, test_ui\n",
    "    global embed\n",
    "    global args\n",
    "    item_pool = list(iids.keys())\n",
    "    if cold_item:\n",
    "        item_pool += list(cold_iids.keys())\n",
    "\n",
    "    ui_results = [uid, str(len(test_ui[uid]))]\n",
    "\n",
    "    # scoring\n",
    "    ui_scores = defaultdict(lambda: 0.)\n",
    "    for rid in item_pool:\n",
    "        if rid in train_ui[uid]:\n",
    "            continue\n",
    "        if uid in embed and rid in embed:\n",
    "            ui_scores[rid] += sim(embed[uid], embed[rid])\n",
    "        else:\n",
    "            ui_scores[rid] += 0.\n",
    "\n",
    "    # ranking\n",
    "    for rid in sorted(ui_scores, key=ui_scores.get, reverse=True):\n",
    "        if rid in test_ui[uid]:\n",
    "            ui_results.append('1')\n",
    "        else:\n",
    "            ui_results.append('0')\n",
    "\n",
    "    return ' '.join(ui_results)"
   ]
  },
  {
   "cell_type": "code",
   "execution_count": null,
   "metadata": {},
   "outputs": [],
   "source": [
    "print ('load train data from',\"./exp/ml.train\")\n",
    "uids, iids = {}, {}\n",
    "train_ui = defaultdict(dict)\n",
    "train_counter = 0.\n",
    "with open(\"exp/ml.train\") as f:\n",
    "    for line in f:\n",
    "        uid, iid, target = line.rstrip().split('\\t')\n",
    "        train_counter += 1.\n",
    "        uids[uid] = 1\n",
    "        iids[iid] = 1\n",
    "        train_ui[uid][iid] = 1\n",
    "\n",
    "print ('load answer data from', \"ml.test\")\n",
    "test_ui = defaultdict(dict)\n",
    "cold_uids, cold_iids = {}, {}\n",
    "test_counter = 0.\n",
    "with open(\"./exp/ml.test\") as f:\n",
    "    for line in f:\n",
    "        uid, iid, target = line.rstrip().split('\\t')\n",
    "        if uid not in uids:\n",
    "            cold_uids[uid] = 1\n",
    "        if iid not in iids:\n",
    "            cold_iids[iid] = 1\n",
    "        if iid in cold_iids and not cold_item:\n",
    "            continue\n",
    "        test_counter += 1.\n",
    "        test_ui[uid][iid] = float(target)\n",
    "\n",
    "print (\"load embeddings from\",\"ml.lfm\")\n",
    "embed = {}\n",
    "with open(\"./exp/ml.lfm\", 'r') as f:\n",
    "    lines = f.readlines()\n",
    "    for line in lines[:]:\n",
    "        line = line.rstrip().split('\\t')\n",
    "        ID = line[0]\n",
    "        embed[ID] = list(map(float, line[1].split(' ')))\n",
    "\n",
    "u_queries = [u for u in test_ui if u not in cold_uids]\n",
    "print('warm user:', len(u_queries))\n",
    "print('cold user:', len(cold_uids))\n",
    "print('warm item:', len(iids))\n",
    "print('cold item:', len(cold_iids))\n",
    "print('avg. train item per user:', train_counter/len(train_ui))\n",
    "print('avg. test item per user:', test_counter/len(test_ui))\n",
    "\n",
    "random.shuffle(u_queries)\n",
    "u_queries = u_queries[:2000]\n",
    "rec_ui = []\n",
    "with concurrent.futures.ProcessPoolExecutor(max_workers=8) as executor:\n",
    "    for res in tqdm(executor.map(process_u_query, u_queries)):\n",
    "        rec_ui.append(res)\n",
    "\n",
    "print ('write the result to', \"ml.lfm\"+'.ui.rec')\n",
    "with open(\"./exp/ml.lfm\"+'.ui.rec', 'w') as f:\n",
    "    f.write('%s\\n' % ('\\n'.join(rec_ui)))"
   ]
  },
  {
   "cell_type": "code",
   "execution_count": 26,
   "metadata": {},
   "outputs": [
    {
     "name": "stdout",
     "output_type": "stream",
     "text": [
      "===\n",
      "   HIT@10:\t0.012450\n",
      "   MAP@10:\t0.004550\n",
      "  NDCG@10:\t0.013273\n",
      "RECALL@10:\t0.014471\n",
      "===\n"
     ]
    }
   ],
   "source": [
    "from math import log\n",
    "\n",
    "rec_file = \"exp/ml.lfm.ui.rec\"\n",
    "at_k = 10\n",
    "\n",
    "eval_num = 0.\n",
    "eval_hit = 0.\n",
    "eval_map = 0.\n",
    "eval_recall = 0.\n",
    "eval_ndcg = 0.\n",
    "\n",
    "with open(rec_file, 'r') as f:\n",
    "    for line in f:\n",
    "        line = line.rstrip().split(' ')\n",
    "        uid = line[0]\n",
    "        len_ans = min(at_k, int(line[1]))\n",
    "        if len_ans == 0: continue\n",
    "\n",
    "        weight_res = list(map(float, line[2:]))[:at_k]\n",
    "        binary_res = [min(v, 1) for v in weight_res]\n",
    "\n",
    "        # scoring\n",
    "        dcg, idcg = 0., 0.\n",
    "        match, mAP = 0., 0.\n",
    "        for pos, value in enumerate(weight_res, 1):\n",
    "            if pos <= len_ans:\n",
    "                idcg += 1./log(pos+1, 2)\n",
    "            if value:\n",
    "                dcg += value/log(pos+1, 2)\n",
    "                match += 1\n",
    "                mAP += match/pos\n",
    "        eval_num += 1\n",
    "        eval_hit += sum(binary_res)/len(binary_res)\n",
    "        eval_map += mAP/len(binary_res)\n",
    "        eval_ndcg += dcg/idcg\n",
    "        eval_recall += sum(binary_res)/min(at_k, int(line[1]))\n",
    "\n",
    "print ('===')\n",
    "print ('   HIT@%d:\\t%f' % (at_k, eval_hit/eval_num))\n",
    "print ('   MAP@%d:\\t%f' % (at_k, eval_map/eval_num))\n",
    "print ('  NDCG@%d:\\t%f' % (at_k, eval_ndcg/eval_num))\n",
    "print ('RECALL@%d:\\t%f' % (at_k, eval_recall/eval_num))\n",
    "print ('===')"
   ]
  }
 ],
 "metadata": {
  "colab": {
   "collapsed_sections": [],
   "name": "MovieLens_FM.ipynb",
   "provenance": []
  },
  "kernelspec": {
   "display_name": "Python 3",
   "language": "python",
   "name": "python3"
  },
  "language_info": {
   "codemirror_mode": {
    "name": "ipython",
    "version": 3
   },
   "file_extension": ".py",
   "mimetype": "text/x-python",
   "name": "python",
   "nbconvert_exporter": "python",
   "pygments_lexer": "ipython3",
   "version": "3.6.9"
  }
 },
 "nbformat": 4,
 "nbformat_minor": 4
}
