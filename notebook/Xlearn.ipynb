{
 "cells": [
  {
   "cell_type": "markdown",
   "id": "3f8e028e-3e2c-4247-a77e-346501793943",
   "metadata": {},
   "source": [
    "## Set working director at ml-latest folder"
   ]
  },
  {
   "cell_type": "code",
   "execution_count": 2,
   "id": "0d4334d0-63ec-499e-924c-f5c22bf81a96",
   "metadata": {},
   "outputs": [
    {
     "name": "stdout",
     "output_type": "stream",
     "text": [
      "/tmp2/lychang/ml-latest\n"
     ]
    }
   ],
   "source": [
    "cd .."
   ]
  },
  {
   "cell_type": "code",
   "execution_count": 3,
   "id": "fd5df835-7a16-4ed3-8df0-434878880b5e",
   "metadata": {},
   "outputs": [
    {
     "data": {
      "text/plain": [
       "'/tmp2/lychang/ml-latest'"
      ]
     },
     "execution_count": 3,
     "metadata": {},
     "output_type": "execute_result"
    }
   ],
   "source": [
    "pwd"
   ]
  },
  {
   "cell_type": "markdown",
   "id": "df0d98a6-cc35-41a2-a192-40660abf96f3",
   "metadata": {},
   "source": [
    "## Sampling"
   ]
  },
  {
   "cell_type": "code",
   "execution_count": 3,
   "id": "26a81da1-ac67-4852-b9b6-c3539fb50130",
   "metadata": {},
   "outputs": [],
   "source": [
    "import random\n",
    "\n",
    "def decision(probability):\n",
    "    return random.random() < probability\n"
   ]
  },
  {
   "cell_type": "code",
   "execution_count": 4,
   "id": "396c44d3-770f-4217-b4ef-420519fb92ce",
   "metadata": {},
   "outputs": [
    {
     "data": {
      "text/plain": [
       "45"
      ]
     },
     "execution_count": 4,
     "metadata": {},
     "output_type": "execute_result"
    }
   ],
   "source": [
    "ori_data = \"./ori_data/ratings.csv\"\n",
    "sub_data = \"./sub_data/sub_ratings.csv\"\n",
    "\n",
    "\n",
    "header = True\n",
    "output = []\n",
    "with open(ori_data, 'r') as f:\n",
    "    for lines in f.readlines():\n",
    "        if header:\n",
    "            output.append(lines)\n",
    "            header = False\n",
    "            continue\n",
    "        if decision(0.01):\n",
    "            continue\n",
    "        else:\n",
    "            output.append(lines)\n",
    "with open(sub_data,'w') as o:\n",
    "    o.writelines(output)\n",
    "del output\n",
    "\n",
    "import gc\n",
    "gc.collect()"
   ]
  },
  {
   "cell_type": "markdown",
   "id": "021f2844-d0e0-4997-b775-aeff7d06d209",
   "metadata": {
    "tags": []
   },
   "source": [
    "## Split Data"
   ]
  },
  {
   "cell_type": "code",
   "execution_count": 5,
   "id": "00cbc018-39e3-4a24-968d-17f05ad84149",
   "metadata": {},
   "outputs": [],
   "source": [
    "import pandas as pd\n",
    "import matplotlib.pyplot as plt\n",
    "\n",
    "train_data_path = \"./sub_data/ml_train.csv\"\n",
    "\n",
    "test_data_path = \"./sub_data/ml_test.csv\""
   ]
  },
  {
   "cell_type": "code",
   "execution_count": 6,
   "id": "ad3ccec8-ab9e-4e7e-88f7-13040e27a023",
   "metadata": {},
   "outputs": [],
   "source": [
    "df = pd.read_csv(sub_data)"
   ]
  },
  {
   "cell_type": "code",
   "execution_count": 7,
   "id": "90bc73df-63e4-4b34-a88d-32da56131499",
   "metadata": {},
   "outputs": [
    {
     "data": {
      "text/html": [
       "<div>\n",
       "<style scoped>\n",
       "    .dataframe tbody tr th:only-of-type {\n",
       "        vertical-align: middle;\n",
       "    }\n",
       "\n",
       "    .dataframe tbody tr th {\n",
       "        vertical-align: top;\n",
       "    }\n",
       "\n",
       "    .dataframe thead th {\n",
       "        text-align: right;\n",
       "    }\n",
       "</style>\n",
       "<table border=\"1\" class=\"dataframe\">\n",
       "  <thead>\n",
       "    <tr style=\"text-align: right;\">\n",
       "      <th></th>\n",
       "      <th>userId</th>\n",
       "      <th>movieId</th>\n",
       "      <th>rating</th>\n",
       "      <th>timestamp</th>\n",
       "    </tr>\n",
       "  </thead>\n",
       "  <tbody>\n",
       "    <tr>\n",
       "      <th>0</th>\n",
       "      <td>1</td>\n",
       "      <td>307</td>\n",
       "      <td>3.5</td>\n",
       "      <td>1256677221</td>\n",
       "    </tr>\n",
       "    <tr>\n",
       "      <th>1</th>\n",
       "      <td>1</td>\n",
       "      <td>481</td>\n",
       "      <td>3.5</td>\n",
       "      <td>1256677456</td>\n",
       "    </tr>\n",
       "    <tr>\n",
       "      <th>2</th>\n",
       "      <td>1</td>\n",
       "      <td>1091</td>\n",
       "      <td>1.5</td>\n",
       "      <td>1256677471</td>\n",
       "    </tr>\n",
       "    <tr>\n",
       "      <th>3</th>\n",
       "      <td>1</td>\n",
       "      <td>1257</td>\n",
       "      <td>4.5</td>\n",
       "      <td>1256677460</td>\n",
       "    </tr>\n",
       "    <tr>\n",
       "      <th>4</th>\n",
       "      <td>1</td>\n",
       "      <td>1449</td>\n",
       "      <td>4.5</td>\n",
       "      <td>1256677264</td>\n",
       "    </tr>\n",
       "  </tbody>\n",
       "</table>\n",
       "</div>"
      ],
      "text/plain": [
       "   userId  movieId  rating   timestamp\n",
       "0       1      307     3.5  1256677221\n",
       "1       1      481     3.5  1256677456\n",
       "2       1     1091     1.5  1256677471\n",
       "3       1     1257     4.5  1256677460\n",
       "4       1     1449     4.5  1256677264"
      ]
     },
     "execution_count": 7,
     "metadata": {},
     "output_type": "execute_result"
    }
   ],
   "source": [
    "df.head()"
   ]
  },
  {
   "cell_type": "code",
   "execution_count": 8,
   "id": "0fd72b6a-aa16-443f-87c7-f9fff5ae37ef",
   "metadata": {},
   "outputs": [
    {
     "data": {
      "text/plain": [
       "<AxesSubplot:>"
      ]
     },
     "execution_count": 8,
     "metadata": {},
     "output_type": "execute_result"
    },
    {
     "data": {
      "image/png": "[encoded data removed]",
      "text/plain": [
       "<Figure size 432x288 with 1 Axes>"
      ]
     },
     "metadata": {
      "needs_background": "light"
     },
     "output_type": "display_data"
    }
   ],
   "source": [
    "fig, ax = plt.subplots()\n",
    "df['rating'].value_counts().plot(ax=ax, kind='bar')"
   ]
  },
  {
   "cell_type": "markdown",
   "id": "223809dd-81b7-4881-a649-8550ef4da663",
   "metadata": {},
   "source": [
    "split train/test dataset by time"
   ]
  },
  {
   "cell_type": "code",
   "execution_count": 9,
   "id": "9913956b-50e8-49d1-8ca2-1f3da16c7478",
   "metadata": {},
   "outputs": [],
   "source": [
    "df.sort_values(by=\"timestamp\", inplace=True)"
   ]
  },
  {
   "cell_type": "code",
   "execution_count": 10,
   "id": "2b4c636c-fd15-42ad-89f3-815f061313dc",
   "metadata": {},
   "outputs": [
    {
     "data": {
      "text/html": [
       "<div>\n",
       "<style scoped>\n",
       "    .dataframe tbody tr th:only-of-type {\n",
       "        vertical-align: middle;\n",
       "    }\n",
       "\n",
       "    .dataframe tbody tr th {\n",
       "        vertical-align: top;\n",
       "    }\n",
       "\n",
       "    .dataframe thead th {\n",
       "        text-align: right;\n",
       "    }\n",
       "</style>\n",
       "<table border=\"1\" class=\"dataframe\">\n",
       "  <thead>\n",
       "    <tr style=\"text-align: right;\">\n",
       "      <th></th>\n",
       "      <th>userId</th>\n",
       "      <th>movieId</th>\n",
       "      <th>rating</th>\n",
       "      <th>timestamp</th>\n",
       "    </tr>\n",
       "  </thead>\n",
       "  <tbody>\n",
       "    <tr>\n",
       "      <th>5455745</th>\n",
       "      <td>56769</td>\n",
       "      <td>1176</td>\n",
       "      <td>4.0</td>\n",
       "      <td>789652004</td>\n",
       "    </tr>\n",
       "    <tr>\n",
       "      <th>23005725</th>\n",
       "      <td>237556</td>\n",
       "      <td>1079</td>\n",
       "      <td>3.0</td>\n",
       "      <td>789652009</td>\n",
       "    </tr>\n",
       "    <tr>\n",
       "      <th>23005682</th>\n",
       "      <td>237556</td>\n",
       "      <td>47</td>\n",
       "      <td>5.0</td>\n",
       "      <td>789652009</td>\n",
       "    </tr>\n",
       "    <tr>\n",
       "      <th>23005676</th>\n",
       "      <td>237556</td>\n",
       "      <td>21</td>\n",
       "      <td>3.0</td>\n",
       "      <td>789652009</td>\n",
       "    </tr>\n",
       "    <tr>\n",
       "      <th>3822841</th>\n",
       "      <td>39797</td>\n",
       "      <td>11</td>\n",
       "      <td>4.0</td>\n",
       "      <td>822873600</td>\n",
       "    </tr>\n",
       "  </tbody>\n",
       "</table>\n",
       "</div>"
      ],
      "text/plain": [
       "          userId  movieId  rating  timestamp\n",
       "5455745    56769     1176     4.0  789652004\n",
       "23005725  237556     1079     3.0  789652009\n",
       "23005682  237556       47     5.0  789652009\n",
       "23005676  237556       21     3.0  789652009\n",
       "3822841    39797       11     4.0  822873600"
      ]
     },
     "execution_count": 10,
     "metadata": {},
     "output_type": "execute_result"
    }
   ],
   "source": [
    "df.head()"
   ]
  },
  {
   "cell_type": "code",
   "execution_count": 11,
   "id": "868bbf6a-f1e7-4770-bfb6-431760a8b7cc",
   "metadata": {},
   "outputs": [],
   "source": [
    "from sklearn.model_selection import train_test_split"
   ]
  },
  {
   "cell_type": "code",
   "execution_count": 12,
   "id": "3c1bd023-00d6-4a03-8293-21a9ca92ba15",
   "metadata": {},
   "outputs": [],
   "source": [
    "train_data, test_data = train_test_split(df, train_size=0.8, shuffle=False)"
   ]
  },
  {
   "cell_type": "code",
   "execution_count": 13,
   "id": "c01820b8-9a90-40f4-84ee-2550fc59561a",
   "metadata": {},
   "outputs": [],
   "source": [
    "train_data.to_csv(train_data_path, index=False, header=False)"
   ]
  },
  {
   "cell_type": "code",
   "execution_count": 14,
   "id": "3f42eb8d-7097-4f70-8791-88231a496b73",
   "metadata": {},
   "outputs": [],
   "source": [
    "test_data.to_csv(test_data_path,index=False, header=False)"
   ]
  },
  {
   "cell_type": "code",
   "execution_count": 15,
   "id": "4f9f459c-c447-4c30-9ba2-8720d8594158",
   "metadata": {},
   "outputs": [
    {
     "name": "stdout",
     "output_type": "stream",
     "text": [
      "56769,1176,4.0,789652004\n",
      "237556,1079,3.0,789652009\n",
      "237556,47,5.0,789652009\n",
      "237556,21,3.0,789652009\n",
      "39797,11,4.0,822873600\n",
      "236139,11,5.0,822873600\n",
      "236139,10,4.0,822873600\n",
      "26999,70,4.0,822873600\n",
      "150485,55,4.0,822873600\n",
      "150485,52,4.0,822873600\n"
     ]
    }
   ],
   "source": [
    "!head ./sub_data/ml_train.csv"
   ]
  },
  {
   "cell_type": "markdown",
   "id": "bdb66cee-5fbc-41cc-9b07-a72de9dac00a",
   "metadata": {},
   "source": [
    "## Asking help from Encoderder"
   ]
  },
  {
   "cell_type": "code",
   "execution_count": 64,
   "id": "2ad24b64-a193-48a8-9dd2-9599397e6412",
   "metadata": {
    "scrolled": true,
    "tags": []
   },
   "outputs": [],
   "source": [
    "# !python3 /tmp2/lychang/encoderder/main.py -c /tmp2/lychang/ml-latest/ml_encoderer.json\n",
    "# will generate train.txt , test.txt(now is all pair of users, items)"
   ]
  },
  {
   "cell_type": "code",
   "execution_count": 80,
   "id": "2fec7d22-e803-411e-bb58-fd0d04490ab2",
   "metadata": {},
   "outputs": [
    {
     "name": "stdout",
     "output_type": "stream",
     "text": [
      "4.0 200951:1  246779:1 \n",
      "3.0 130356:1  244272:1 \n",
      "5.0 130356:1  260161:1 \n",
      "3.0 130356:1  254449:1 \n",
      "4.0 184773:1  244849:1 \n",
      "5.0 129028:1  244849:1 \n",
      "4.0 129028:1  242050:1 \n",
      "4.0 161208:1  265491:1 \n",
      "4.0 47867:1  261968:1 \n",
      "4.0 47867:1  261285:1 \n"
     ]
    }
   ],
   "source": [
    "!head ./exp/train_dir/train.txt"
   ]
  },
  {
   "cell_type": "code",
   "execution_count": 82,
   "id": "0c4f073a-9c91-40a8-8c28-3c4ff8d0b7d0",
   "metadata": {},
   "outputs": [
    {
     "name": "stdout",
     "output_type": "stream",
     "text": [
      "0:1 242049:1\n",
      "0:1 242050:1\n",
      "0:1 242051:1\n",
      "0:1 242052:1\n",
      "0:1 242053:1\n",
      "0:1 242054:1\n",
      "0:1 242055:1\n",
      "0:1 242056:1\n",
      "0:1 242057:1\n",
      "0:1 242058:1\n"
     ]
    }
   ],
   "source": [
    "!head ./exp/test_dir/test.txt "
   ]
  },
  {
   "cell_type": "markdown",
   "id": "3fdcd7fd-84b2-44a8-bddf-9eeff802da47",
   "metadata": {},
   "source": [
    "---"
   ]
  },
  {
   "cell_type": "markdown",
   "id": "698dd656-2046-4d69-9d7c-69ec92cc9ad0",
   "metadata": {},
   "source": [
    "## Training"
   ]
  },
  {
   "cell_type": "code",
   "execution_count": 83,
   "id": "66164bcd-f234-460c-b839-3c7de08fff46",
   "metadata": {},
   "outputs": [],
   "source": [
    "import xlearn as xl"
   ]
  },
  {
   "cell_type": "code",
   "execution_count": 84,
   "id": "a96a301e-454c-433f-b124-3b974bb69fd9",
   "metadata": {},
   "outputs": [],
   "source": [
    "fm_model = xl.create_fm()  # Use factorization machine"
   ]
  },
  {
   "cell_type": "code",
   "execution_count": 85,
   "id": "286fa049-5adf-4164-b4af-1116ded31676",
   "metadata": {},
   "outputs": [],
   "source": [
    "fm_train_data_path = \"/tmp2/lychang/ml-latest/exp/train_dir/train.txt\"\n",
    "fm_model_path = \"/tmp2/lychang/ml-latest/exp/train_dir/train.txt.model\"\n",
    "fm_test_data_path = \"/tmp2/lychang/ml-latest/exp/test_dir/test.txt\"\n",
    "fm_output_path = \"/tmp2/lychang/ml-latest/exp/output.txt\""
   ]
  },
  {
   "cell_type": "code",
   "execution_count": 86,
   "id": "ed74baff-2a97-41a1-ab1f-c4c0e7cc4903",
   "metadata": {},
   "outputs": [],
   "source": [
    "fm_model.setTrain(fm_train_data_path)  # Training data\n",
    "\n",
    "# fm_model.setOnDisk()   #  Set xlearn to use on-disk training.\n",
    "\n",
    "# param:\n",
    "#  0. Binary classification task\n",
    "#  1. learning rate: 0.2\n",
    "#  2. lambda: 0.002\n",
    "#  3. metric: accuracy\n",
    "param = {'task':'reg', 'lr':0.2,\n",
    "         'metric':'rmse','lambda':0.002}\n",
    "\n",
    "# Use cross-validation\n",
    "# fm_model.cv(param)"
   ]
  },
  {
   "cell_type": "code",
   "execution_count": 87,
   "id": "6d6c0748-b31b-4690-885e-8643991f42bc",
   "metadata": {},
   "outputs": [],
   "source": [
    "# Start to train\n",
    "\n",
    "# The trained model will be stored in model.out\n",
    "fm_model.fit(param, fm_model_path)"
   ]
  },
  {
   "cell_type": "markdown",
   "id": "7ec802f9-c90f-4408-9075-89ab47930037",
   "metadata": {},
   "source": [
    "## Predict"
   ]
  },
  {
   "cell_type": "markdown",
   "id": "6a043830-eb06-4f80-9f9d-16a2c309a026",
   "metadata": {},
   "source": [
    "!!! - You need to create the all pairs (u, i) that are NOT in the training set. !!!"
   ]
  },
  {
   "cell_type": "code",
   "execution_count": null,
   "id": "6926193e-0386-4dee-8b95-4fe308fd1a72",
   "metadata": {},
   "outputs": [],
   "source": [
    "# Prediction task\n",
    "fm_model.setTest(fm_test_data_path)  # Test data\n",
    "# fm_model.setSigmoid()  # Convert output to 0-1\n",
    "\n",
    "\n",
    "fm_model.setOnDisk()   #  Set xlearn to use on-disk training.\n",
    "\n",
    "\n",
    "# Start to predict\n",
    "# The output result will be stored in output.txt\n",
    "fm_model.predict(fm_model_path, fm_output_path)"
   ]
  },
  {
   "cell_type": "markdown",
   "id": "34e4ff8a-dfd4-4267-9c0b-987e35be5512",
   "metadata": {
    "tags": []
   },
   "source": [
    "## Evaluation"
   ]
  },
  {
   "cell_type": "code",
   "execution_count": null,
   "id": "4fa33e32-7309-4b36-920a-32d71fd2ff3d",
   "metadata": {},
   "outputs": [
    {
     "name": "stdout",
     "output_type": "stream",
     "text": [
      " 26%|████▉              | 1970846672/7661096275 [2:24:41<9:49:13, 160953.31it/s]"
     ]
    }
   ],
   "source": [
    "!python3 /tmp2/lychang/ml-latest/script/gen_user_pred.py"
   ]
  },
  {
   "cell_type": "code",
   "execution_count": 4,
   "id": "cbc5e285-224c-46aa-aec0-c6a72ae1ade3",
   "metadata": {},
   "outputs": [],
   "source": [
    "import pickle\n",
    "feature_table = {}\n",
    "out_file = \"./exp/train_dir/\"\n",
    "for idx in range(2):\n",
    "    pkl_output_path = \"/\".join(out_file.split('/')[:-1])+f\"/encoder{idx}_dict.pkl\"\n",
    "\n",
    "    with open(pkl_output_path,'rb') as p:\n",
    "        feature_table[idx] = pickle.load(p)"
   ]
  },
  {
   "cell_type": "code",
   "execution_count": 5,
   "id": "f781cb8c-db21-4a51-a136-d6375cbf2489",
   "metadata": {},
   "outputs": [
    {
     "name": "stdout",
     "output_type": "stream",
     "text": [
      "127986\n"
     ]
    }
   ],
   "source": [
    "print(feature_table[0][26573])"
   ]
  },
  {
   "cell_type": "code",
   "execution_count": 6,
   "id": "6b20989f-98ac-4838-8e7b-eb233d6c1771",
   "metadata": {},
   "outputs": [
    {
     "name": "stdout",
     "output_type": "stream",
     "text": [
      "127986\n"
     ]
    }
   ],
   "source": [
    "print(feature_table[0][26573])"
   ]
  },
  {
   "cell_type": "code",
   "execution_count": 7,
   "id": "f17e8667-0849-4dab-9409-c17af6668eed",
   "metadata": {},
   "outputs": [],
   "source": [
    "with open(\"./user_pred_dict.pkl\",'rb') as p:\n",
    "    user_pred_dict = pickle.load(p)"
   ]
  },
  {
   "cell_type": "code",
   "execution_count": 10,
   "id": "cf8cb1a0-a2f4-4997-90f8-cebdc8a1edfd",
   "metadata": {},
   "outputs": [
    {
     "name": "stdout",
     "output_type": "stream",
     "text": [
      "0 [('250677', '5.13586'), ('269763', '5.11201'), ('246011', '5.05358'), ('270606', '5.04613'), ('268730', '5.02287'), ('266120', '5.00884'), ('271415', '5.00286'), ('242532', '4.98986'), ('271894', '4.98317'), ('271783', '4.9822')]\n"
     ]
    }
   ],
   "source": [
    "for k in user_pred_dict:\n",
    "    print(k,user_pred_dict[k])\n",
    "    break"
   ]
  },
  {
   "cell_type": "code",
   "execution_count": 11,
   "id": "dc874419-5006-47b5-86ba-f4c0ac11cf64",
   "metadata": {},
   "outputs": [],
   "source": [
    "user_actual_dict = {}\n",
    "\n",
    "with open(\"./ori_data/ml_test.csv\",\"r\") as f:\n",
    "    recm_list = []\n",
    "    for line in f.readlines():\n",
    "        user,item,_,_= line.rstrip().split(\",\")\n",
    "\n",
    "        if user not in user_actual_dict:\n",
    "            user_actual_dict[user] = [] \n",
    "            \n",
    "        user_actual_dict[user].append(item)"
   ]
  },
  {
   "cell_type": "code",
   "execution_count": 18,
   "id": "fd9ae283-415a-4a19-86f7-c39ae8a9fc16",
   "metadata": {},
   "outputs": [
    {
     "name": "stdout",
     "output_type": "stream",
     "text": [
      "47659\n",
      "14\n"
     ]
    }
   ],
   "source": [
    "print(len(user_actual_dict))\n",
    "\n",
    "mmin = 777777\n",
    "for k in user_actual_dict:\n",
    "    if int(k) < mmin:\n",
    "        mmin = int(k)\n",
    "print(mmin)"
   ]
  },
  {
   "cell_type": "code",
   "execution_count": 22,
   "id": "9782532f-2d88-4f4a-b519-1cfec144a0f6",
   "metadata": {},
   "outputs": [
    {
     "name": "stdout",
     "output_type": "stream",
     "text": [
      "['97304', '2028', '48516', '33166', '6373', '6863', '4995', '5349', '122904', '139385', '152081', '3147', '142488', '166024', '51086', '90746', '7669', '114935', '2720', '6534', '1882', '64969', '177765', '160718', '1917', '2']\n"
     ]
    }
   ],
   "source": [
    "print(user_actual_dict['14'])"
   ]
  },
  {
   "cell_type": "code",
   "execution_count": 38,
   "id": "459f887b-4d71-43ca-9274-38b1907b5dcb",
   "metadata": {},
   "outputs": [],
   "source": [
    "# trans pred item to actual ID\n",
    "user_pred_dict2 = {}\n",
    "\n",
    "for user , items in user_pred_dict.items():\n",
    "    userID = int(user)\n",
    "    userID = feature_table[0][userID]\n",
    "    itemIDs = [int(i[0]) for i in items]\n",
    "    #print(itemIDs)\n",
    "    actual_itemIDs = [feature_table[1][i] for i in itemIDs]\n",
    "    #print(actual_itemIDs)\n",
    "    user_pred_dict2[userID] = actual_itemIDs\n",
    "\n"
   ]
  },
  {
   "cell_type": "code",
   "execution_count": 42,
   "id": "afc97f57-880c-46e2-8c0e-f28e070cb769",
   "metadata": {},
   "outputs": [
    {
     "name": "stdout",
     "output_type": "stream",
     "text": [
      "100026\n",
      "['318', '134130', '138036', '111781', '120466', '136020', '122882', '117895', '140110', '117529', '122886', '133195', '135133', '122900', '130634', '150548', '114180']\n",
      "['2959', '8957', '51662', '2571', '109487', '1590', '47', '3275', '296', '58559']\n"
     ]
    }
   ],
   "source": [
    "for k in user_pred_dict2:\n",
    "    if k in user_actual_dict:\n",
    "        print(k)\n",
    "        print(user_actual_dict[k])\n",
    "        print(user_pred_dict2[k])\n",
    "\n",
    "        break"
   ]
  },
  {
   "cell_type": "code",
   "execution_count": 77,
   "id": "aa80b071-98df-4086-8035-88e0538ab445",
   "metadata": {},
   "outputs": [
    {
     "name": "stdout",
     "output_type": "stream",
     "text": [
      "145919 ['318', '92259', '2324', '2571', '2959', '79132', '2028', '356', '858', '3147', '4011', '296', '1961', '3578', '68954', '4886', '74789', '91542', '134853', '5618', '1198', '5952', '109487', '293', '110', '109374', '4993', '7153', '4226', '3793', '32587', '6333', '59315', '40815', '45722', '4025', '4447', '5991', '30793', '4270', '41566', '4367', '33679', '89745', '54001', '45499', '7458', '31658', '53125', '69844', '88125', '81834', '77561', '91500', '7022', '54259', '34319', '79702', '53322', '51540', '98809', '45720', '33615', '79091', '60074', '111759', '106782', '66097', '68319', '81847', '106487', '46972', '4700', '4992', '111362', '63992', '6156', '4366', '106489', '5957', '5419', '56152', '56775', '97913', '81564', '6535', '36401', '3483', '90866', '108932', '56171', '63859', '106696', '86880', '59501', '87869', '95167', '69406', '8965', '122892', '68135', '70293', '116823', '8666', '7161', '72407', '78105', '71264', '59725', '5504', '36525', '77866', '50601', '69644', '62155', '114180', '138036', '134368', '117529', '130490', '745', '60069', '1291', '1682', '1193', '2542', '5989', '1625', '539', '5956', '587', '2797', '1721', '1270', '588', '595', '102903', '119145', '48780', '4963', '5459', '8984', '97752', '60684', '73017', '112852', '74458']\n"
     ]
    }
   ],
   "source": [
    "for k in user_actual_dict:\n",
    "    #print(k,user_pred_dict2[k])\n",
    "    print(k,user_actual_dict[k])\n",
    "    break"
   ]
  },
  {
   "cell_type": "code",
   "execution_count": 49,
   "id": "95d22517-167a-4f01-b4d2-e7dc91247efa",
   "metadata": {},
   "outputs": [],
   "source": [
    "import numpy as np\n",
    "\n",
    "def apk(actual, predicted, k=10):\n",
    "    ##\n",
    "    ## note : predicted list \"order\" does matter !!!\n",
    "    ##\n",
    "    if len(predicted)>k:\n",
    "        predicted = predicted[:k]\n",
    "\n",
    "    score = 0.0\n",
    "    num_hits = 0.0\n",
    "\n",
    "    for i,p in enumerate(predicted):\n",
    "        if p in actual and p not in predicted[:i]:\n",
    "            num_hits += 1.0\n",
    "            score += num_hits / (i+1.0)\n",
    "\n",
    "    if not actual:\n",
    "        return 0.0\n",
    "\n",
    "    return score / min(len(actual), k)"
   ]
  },
  {
   "cell_type": "code",
   "execution_count": 48,
   "id": "60b4378d-f8cb-4237-9d08-762c215636e4",
   "metadata": {},
   "outputs": [],
   "source": [
    "def mapk(actual, predicted, k=10):\n",
    "\n",
    "    return np.mean([apk(a,p,k) for a,p in zip(actual, predicted)])"
   ]
  },
  {
   "cell_type": "code",
   "execution_count": 45,
   "id": "15608824-0bee-40c5-a545-d1d51dfa4e40",
   "metadata": {},
   "outputs": [
    {
     "name": "stdout",
     "output_type": "stream",
     "text": [
      "['2959', '8957', '51662', '2571', '109487', '1590', '47', '3275', '296', '58559']\n"
     ]
    }
   ],
   "source": [
    "a = user_pred_dict2['100026']\n",
    "print(a)"
   ]
  },
  {
   "cell_type": "code",
   "execution_count": 46,
   "id": "fffb565c-935a-4294-b7e3-c1c0db721cbd",
   "metadata": {},
   "outputs": [
    {
     "name": "stdout",
     "output_type": "stream",
     "text": [
      "['318', '134130', '138036', '111781', '120466', '136020', '122882', '117895', '140110', '117529', '122886', '133195', '135133', '122900', '130634', '150548', '114180']\n"
     ]
    }
   ],
   "source": [
    "ans = user_actual_dict['100026']\n",
    "print(ans)"
   ]
  },
  {
   "cell_type": "code",
   "execution_count": 52,
   "id": "e1e14659-9aa8-4457-95f0-26955565734c",
   "metadata": {},
   "outputs": [
    {
     "name": "stdout",
     "output_type": "stream",
     "text": [
      "0.17027777777777775\n"
     ]
    }
   ],
   "source": [
    "print(mapk(a,ans))"
   ]
  },
  {
   "cell_type": "code",
   "execution_count": 63,
   "id": "17a9c684-2cdc-4196-a919-db3e4a5f14de",
   "metadata": {},
   "outputs": [
    {
     "name": "stdout",
     "output_type": "stream",
     "text": [
      "0.006438216745006652\n"
     ]
    }
   ],
   "source": [
    "mAP = 0\n",
    "for user in user_pred_dict2:\n",
    "    if user in user_actual_dict:\n",
    "        ans = user_actual_dict[user]\n",
    "    else:\n",
    "        continue\n",
    "    pred = user_pred_dict2[user]        \n",
    "    mAP += mapk(pred,ans)\n",
    "    \n",
    "print(mAP/len(user_pred_dict2))"
   ]
  }
 ],
 "metadata": {
  "kernelspec": {
   "display_name": "Python 3",
   "language": "python",
   "name": "python3"
  },
  "language_info": {
   "codemirror_mode": {
    "name": "ipython",
    "version": 3
   },
   "file_extension": ".py",
   "mimetype": "text/x-python",
   "name": "python",
   "nbconvert_exporter": "python",
   "pygments_lexer": "ipython3",
   "version": "3.6.9"
  }
 },
 "nbformat": 4,
 "nbformat_minor": 5
}
